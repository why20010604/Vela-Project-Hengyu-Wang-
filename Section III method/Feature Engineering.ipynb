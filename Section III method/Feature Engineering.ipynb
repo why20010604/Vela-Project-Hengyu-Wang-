{
 "cells": [
  {
   "cell_type": "code",
   "execution_count": 1,
   "id": "b333bf93",
   "metadata": {},
   "outputs": [],
   "source": [
    "#Import all the libraries\n",
    "%matplotlib inline\n",
    "import matplotlib.pyplot as plt\n",
    "import pandas as pd\n",
    "import numpy as np\n",
    "from functools import reduce\n",
    "import math\n",
    "import urllib\n",
    "import difflib \n",
    "import seaborn as sns\n",
    "import sklearn.model_selection\n",
    "from tensorflow.keras.models import Sequential\n",
    "from tensorflow.keras.layers import Dense\n",
    "from sklearn.model_selection import cross_val_score"
   ]
  },
  {
   "cell_type": "markdown",
   "id": "790d43b2",
   "metadata": {},
   "source": [
    "# Step One\n",
    "### First we must load the data we previously prepared from the 'Data Loading' notebook, QS 2023 university ranking data."
   ]
  },
  {
   "cell_type": "code",
   "execution_count": 26,
   "id": "5eefd55c",
   "metadata": {},
   "outputs": [],
   "source": [
    "'''Loads the dataframe of the spreadsheets with the data all together'''\n",
    "df_All_Companies_merged = pd. read_pickle(r'Data\\df_All_Companies_merged.pkl')\n",
    "df_Successful_merged = pd. read_pickle(r'Data\\df_SuccessfulInvestor_merged.pkl')"
   ]
  },
  {
   "cell_type": "code",
   "execution_count": 27,
   "id": "90cb9126",
   "metadata": {},
   "outputs": [],
   "source": [
    "X = pd.DataFrame(df_All_Companies_merged).to_numpy()"
   ]
  },
  {
   "cell_type": "code",
   "execution_count": null,
   "id": "1cbd3879",
   "metadata": {},
   "outputs": [],
   "source": []
  },
  {
   "cell_type": "code",
   "execution_count": 28,
   "id": "10d80d71",
   "metadata": {},
   "outputs": [
    {
     "data": {
      "text/plain": [
       "array(['Clockwise', 'getclockwise.com', Timestamp('2016-01-01 00:00:00'),\n",
       "       'San Francisco',\n",
       "       'Artificial Intelligence,Enterprise Software,Machine Learning,Productivity Tools,Software',\n",
       "       'Artificial Intelligence,Data and Analytics,Science and Engineering,Software',\n",
       "       'Clockwise is an intelligent calendar system that uses artificial intelligence to help people get a dedicated block of time to be productive.',\n",
       "       'Accel,SV Angel',\n",
       "       'Dartmouth College,Stanford University,University of Pennsylvania Law School',\n",
       "       'Masters,unknown,unknown', 'Computer Science,unknown,unknown',\n",
       "       'male,male,male', 'San Francisco,San Francisco,San Francisco',\n",
       "       'Clockwise,Clockwise,Clockwise,LegalReach,RelateIQ,alesforce.com',\n",
       "       'Co-Founder & CEO,Co-Founder & CTO,Co-Founder and CTO,Front-end Engineer,Manager, Front-End Engineering,head of product',\n",
       "       1], dtype=object)"
      ]
     },
     "execution_count": 28,
     "metadata": {},
     "output_type": "execute_result"
    }
   ],
   "source": [
    "X[100,:]"
   ]
  },
  {
   "cell_type": "code",
   "execution_count": 29,
   "id": "6317a84f",
   "metadata": {},
   "outputs": [],
   "source": [
    "#Importing importing QS university ranking data\n",
    "df_University_Rankings = pd.read_excel(r'Data/2022_QS_World_University_Rankings_Results_public_version_modified.xlsx')"
   ]
  },
  {
   "cell_type": "markdown",
   "id": "92816e6f",
   "metadata": {},
   "source": [
    "## City"
   ]
  },
  {
   "cell_type": "code",
   "execution_count": 83,
   "id": "84e1687e",
   "metadata": {},
   "outputs": [
    {
     "name": "stdout",
     "output_type": "stream",
     "text": [
      "The top 1 city is San Francisco occuring 1017 times\n",
      "The top 2 city is New York occuring 530 times\n",
      "The top 3 city is Los Angeles occuring 119 times\n",
      "The top 4 city is Palo Alto occuring 115 times\n",
      "The top 5 city is Boston occuring 85 times\n",
      "The top 6 city is Mountain View occuring 60 times\n",
      "The top 7 city is Brooklyn occuring 55 times\n",
      "The top 8 city is San Mateo occuring 48 times\n",
      "The top 9 city is Seattle occuring 47 times\n",
      "The top 10 city is Cambridge occuring 37 times\n",
      "The top 11 city is Austin occuring 37 times\n",
      "The top 12 city is Redwood City occuring 36 times\n",
      "The top 13 city is Santa Monica occuring 35 times\n",
      "The top 14 city is Oakland occuring 28 times\n",
      "The top 15 city is Chicago occuring 26 times\n",
      "The top 16 city is San Jose occuring 25 times\n",
      "The top 17 city is Menlo Park occuring 25 times\n",
      "The top 18 city is Washington occuring 20 times\n",
      "The top 19 city is Santa Clara occuring 20 times\n",
      "The top 20 city is Berkeley occuring 20 times\n",
      "The top 21 city is San Diego occuring 16 times\n",
      "The top 22 city is Denver occuring 14 times\n",
      "The top 23 city is Venice occuring 12 times\n",
      "The top 24 city is Portland occuring 12 times\n",
      "The top 25 city is Atlanta occuring 12 times\n",
      "The top 26 city is Sunnyvale occuring 11 times\n",
      "The top 27 city is Philadelphia occuring 11 times\n",
      "The top 28 city is Burlingame occuring 11 times\n",
      "The top 29 city is Boulder occuring 11 times\n",
      "The top 30 city is Miami occuring 10 times\n"
     ]
    }
   ],
   "source": [
    "temp = df_Successful_merged['city'].values[:].tolist()\n",
    "list_all_city_unfiltered = [x.split(',') for x in temp if isinstance(x, str)]\n",
    "list_all_city_unfiltered = reduce(lambda x,y :x+y ,list_all_city_unfiltered)\n",
    "list_all_city = list(set(list_all_city_unfiltered))\n",
    "list_all_city_and_count = [[0,x] for x in list_all_city]\n",
    "\n",
    "for x in list_all_city_unfiltered:\n",
    "    idx = list_all_city.index(x)\n",
    "    list_all_city_and_count[idx][0] += 1\n",
    "\n",
    "list_all_city_and_count.sort(reverse=True)\n",
    "\n",
    "for idx, value in enumerate(list_all_city_and_count):\n",
    "    if idx == 30: break\n",
    "    print('The top {} city is {} occuring {} times'.format(idx + 1, value[1], value[0] ))"
   ]
  },
  {
   "cell_type": "markdown",
   "id": "45785556",
   "metadata": {},
   "source": [
    "## Category list"
   ]
  },
  {
   "cell_type": "code",
   "execution_count": 31,
   "id": "d280fed9",
   "metadata": {},
   "outputs": [
    {
     "name": "stdout",
     "output_type": "stream",
     "text": [
      "The top 1 category list is Software occuring 834 times\n",
      "The top 2 category list is Information Technology occuring 330 times\n",
      "The top 3 category list is Health Care occuring 312 times\n",
      "The top 4 category list is E-Commerce occuring 290 times\n",
      "The top 5 category list is Internet occuring 277 times\n",
      "The top 6 category list is SaaS occuring 276 times\n",
      "The top 7 category list is FinTech occuring 266 times\n",
      "The top 8 category list is Mobile occuring 238 times\n",
      "The top 9 category list is Artificial Intelligence occuring 235 times\n",
      "The top 10 category list is Financial Services occuring 232 times\n",
      "The top 11 category list is Enterprise Software occuring 211 times\n",
      "The top 12 category list is Analytics occuring 191 times\n",
      "The top 13 category list is Apps occuring 180 times\n",
      "The top 14 category list is Machine Learning occuring 176 times\n",
      "The top 15 category list is Finance occuring 131 times\n",
      "The top 16 category list is Big Data occuring 119 times\n",
      "The top 17 category list is Education occuring 113 times\n",
      "The top 18 category list is Marketplace occuring 112 times\n",
      "The top 19 category list is Mobile Apps occuring 106 times\n",
      "The top 20 category list is Biotechnology occuring 96 times\n",
      "The top 21 category list is Real Estate occuring 95 times\n",
      "The top 22 category list is Wellness occuring 92 times\n",
      "The top 23 category list is Social Media occuring 84 times\n",
      "The top 24 category list is Medical occuring 84 times\n",
      "The top 25 category list is Retail occuring 79 times\n",
      "The top 26 category list is Blockchain occuring 77 times\n",
      "The top 27 category list is Payments occuring 75 times\n",
      "The top 28 category list is Human Resources occuring 73 times\n",
      "The top 29 category list is Security occuring 69 times\n",
      "The top 30 category list is Cryptocurrency occuring 65 times\n",
      "The top 31 category list is Cloud Computing occuring 65 times\n",
      "The top 32 category list is Fashion occuring 64 times\n",
      "The top 33 category list is Food and Beverage occuring 62 times\n",
      "The top 34 category list is Computer occuring 62 times\n",
      "The top 35 category list is Advertising occuring 62 times\n",
      "The top 36 category list is Logistics occuring 61 times\n",
      "The top 37 category list is Robotics occuring 59 times\n",
      "The top 38 category list is Cyber Security occuring 57 times\n",
      "The top 39 category list is Developer Tools occuring 56 times\n",
      "The top 40 category list is Developer APIs occuring 55 times\n"
     ]
    }
   ],
   "source": [
    "temp = df_Successful_merged['category_list'].values[:].tolist()\n",
    "list_all_category_list_unfiltered = [x.split(',') for x in temp if isinstance(x, str)]\n",
    "list_all_category_list_unfiltered = reduce(lambda x,y :x+y ,list_all_category_list_unfiltered)\n",
    "list_all_category_list = list(set(list_all_category_list_unfiltered))\n",
    "list_all_category_list_and_count = [[0,x] for x in list_all_category_list]\n",
    "\n",
    "for x in list_all_category_list_unfiltered:\n",
    "    idx = list_all_category_list.index(x)\n",
    "    list_all_category_list_and_count[idx][0] += 1\n",
    "\n",
    "list_all_category_list_and_count.sort(reverse=True)\n",
    "\n",
    "for idx, value in enumerate(list_all_category_list_and_count):\n",
    "    if idx == 40: break\n",
    "    print('The top {} category list is {} occuring {} times'.format(idx + 1, value[1], value[0] ))"
   ]
  },
  {
   "cell_type": "markdown",
   "id": "ea987170",
   "metadata": {},
   "source": [
    "## Category list group"
   ]
  },
  {
   "cell_type": "code",
   "execution_count": 86,
   "id": "7c2bf69f",
   "metadata": {},
   "outputs": [
    {
     "name": "stdout",
     "output_type": "stream",
     "text": [
      "The top 1 category groups list is Software occuring 1609 times\n",
      "The top 2 category groups list is Information Technology occuring 653 times\n",
      "The top 3 category groups list is Internet Services occuring 646 times\n",
      "The top 4 category groups list is Data and Analytics occuring 571 times\n",
      "The top 5 category groups list is Financial Services occuring 514 times\n",
      "The top 6 category groups list is Other occuring 442 times\n",
      "The top 7 category groups list is Commerce and Shopping occuring 439 times\n",
      "The top 8 category groups list is Health Care occuring 416 times\n",
      "The top 9 category groups list is Science and Engineering occuring 414 times\n",
      "The top 10 category groups list is Mobile occuring 393 times\n",
      "The top 11 category groups list is Hardware occuring 375 times\n",
      "The top 12 category groups list is Media and Entertainment occuring 341 times\n",
      "The top 13 category groups list is Artificial Intelligence occuring 301 times\n",
      "The top 14 category groups list is Apps occuring 295 times\n",
      "The top 15 category groups list is Sales and Marketing occuring 227 times\n",
      "The top 16 category groups list is Professional Services occuring 223 times\n",
      "The top 17 category groups list is Community and Lifestyle occuring 211 times\n",
      "The top 18 category groups list is Transportation occuring 186 times\n",
      "The top 19 category groups list is Real Estate occuring 184 times\n",
      "The top 20 category groups list is Payments occuring 175 times\n",
      "The top 21 category groups list is Design occuring 163 times\n",
      "The top 22 category groups list is Consumer Electronics occuring 147 times\n",
      "The top 23 category groups list is Privacy and Security occuring 145 times\n",
      "The top 24 category groups list is Administrative Services occuring 144 times\n",
      "The top 25 category groups list is Education occuring 140 times\n",
      "The top 26 category groups list is Consumer Goods occuring 121 times\n",
      "The top 27 category groups list is Food and Beverage occuring 117 times\n",
      "The top 28 category groups list is Content and Publishing occuring 112 times\n",
      "The top 29 category groups list is Biotechnology occuring 108 times\n",
      "The top 30 category groups list is Sports occuring 99 times\n",
      "The top 31 category groups list is Lending and Investments occuring 91 times\n",
      "The top 32 category groups list is Video occuring 89 times\n",
      "The top 33 category groups list is Messaging and Telecommunications occuring 89 times\n",
      "The top 34 category groups list is Travel and Tourism occuring 78 times\n",
      "The top 35 category groups list is Advertising occuring 72 times\n"
     ]
    }
   ],
   "source": [
    "temp = df_Successful_merged['category_groups_list'].values[:].tolist()\n",
    "list_all_category_groups_list_unfiltered = [x.split(',') for x in temp if isinstance(x, str)]\n",
    "list_all_category_groups_list_unfiltered = reduce(lambda x,y :x+y ,list_all_category_groups_list_unfiltered)\n",
    "list_all_category_groups_list = list(set(list_all_category_groups_list_unfiltered))\n",
    "list_all_category_groups_list_and_count = [[0,x] for x in list_all_category_groups_list]\n",
    "\n",
    "for x in list_all_category_groups_list_unfiltered:\n",
    "    idx = list_all_category_groups_list.index(x)\n",
    "    list_all_category_groups_list_and_count[idx][0] += 1\n",
    "\n",
    "list_all_category_groups_list_and_count.sort(reverse=True)\n",
    "\n",
    "for idx, value in enumerate(list_all_category_groups_list_and_count):\n",
    "    if idx == 35: break\n",
    "    print('The top {} category groups list is {} occuring {} times'.format(idx + 1, value[1], value[0] ))"
   ]
  },
  {
   "cell_type": "markdown",
   "id": "3899e944",
   "metadata": {},
   "source": [
    "## All_seed_investors"
   ]
  },
  {
   "cell_type": "code",
   "execution_count": 87,
   "id": "e3070fa5",
   "metadata": {},
   "outputs": [
    {
     "name": "stdout",
     "output_type": "stream",
     "text": [
      "The top 1 all seed investor is SV Angel occuring 539 times\n",
      "The top 2 all seed investor is BoxGroup occuring 248 times\n",
      "The top 3 all seed investor is Great Oaks Venture Capital occuring 196 times\n",
      "The top 4 all seed investor is Soma Capital occuring 177 times\n",
      "The top 5 all seed investor is Initialized Capital occuring 171 times\n",
      "The top 6 all seed investor is DCVC occuring 154 times\n",
      "The top 7 all seed investor is Tuesday Capital occuring 127 times\n",
      "The top 8 all seed investor is Ulu Ventures occuring 122 times\n",
      "The top 9 all seed investor is RRE Ventures occuring 114 times\n",
      "The top 10 all seed investor is Wei Guo occuring 109 times\n",
      "The top 11 all seed investor is Accel occuring 106 times\n",
      "The top 12 all seed investor is Acequia Capital (AceCap) occuring 100 times\n",
      "The top 13 all seed investor is Abstract Ventures occuring 99 times\n",
      "The top 14 all seed investor is Accomplice occuring 85 times\n",
      "The top 15 all seed investor is Susa Ventures occuring 82 times\n",
      "The top 16 all seed investor is Scott Belsky occuring 82 times\n",
      "The top 17 all seed investor is Pear VC occuring 81 times\n",
      "The top 18 all seed investor is Haystack occuring 78 times\n",
      "The top 19 all seed investor is NextView Ventures occuring 76 times\n",
      "The top 20 all seed investor is UpHonest Capital occuring 73 times\n",
      "The top 21 all seed investor is Kevin Moore occuring 71 times\n",
      "The top 22 all seed investor is Digital Currency Group occuring 67 times\n",
      "The top 23 all seed investor is Amino Capital occuring 67 times\n",
      "The top 24 all seed investor is Harrison Metal occuring 65 times\n",
      "The top 25 all seed investor is Canaan Partners occuring 59 times\n",
      "The top 26 all seed investor is Rothenberg Ventures occuring 57 times\n",
      "The top 27 all seed investor is Graph Ventures occuring 57 times\n",
      "The top 28 all seed investor is Kevin Mahaffey occuring 54 times\n",
      "The top 29 all seed investor is Expansion Venture Capital occuring 52 times\n",
      "The top 30 all seed investor is Lee Linden occuring 50 times\n",
      "The top 31 all seed investor is ACE & Company occuring 49 times\n",
      "The top 32 all seed investor is Tim Draper occuring 48 times\n",
      "The top 33 all seed investor is Atlas Venture occuring 48 times\n",
      "The top 34 all seed investor is Spark Capital occuring 44 times\n",
      "The top 35 all seed investor is Social Leverage occuring 44 times\n"
     ]
    }
   ],
   "source": [
    "temp = df_Successful_merged['all_seed_investors'].values[:].tolist()\n",
    "list_all_seed_investors_unfiltered = [x.split(',') for x in temp if isinstance(x, str)]\n",
    "list_all_seed_investors_unfiltered = reduce(lambda x,y :x+y ,list_all_seed_investors_unfiltered)\n",
    "list_all_seed_investors = list(set(list_all_seed_investors_unfiltered))\n",
    "list_all_seed_investors_and_count = [[0,x] for x in list_all_seed_investors]\n",
    "\n",
    "for x in list_all_seed_investors_unfiltered:\n",
    "    idx = list_all_seed_investors.index(x)\n",
    "    list_all_seed_investors_and_count[idx][0] += 1\n",
    "\n",
    "list_all_seed_investors_and_count.sort(reverse=True)\n",
    "\n",
    "for idx, value in enumerate(list_all_seed_investors_and_count):\n",
    "    if idx == 35: break\n",
    "    print('The top {} all seed investor is {} occuring {} times'.format(idx + 1, value[1], value[0] ))"
   ]
  },
  {
   "cell_type": "markdown",
   "id": "9d96ddf5",
   "metadata": {},
   "source": [
    "## University of founders"
   ]
  },
  {
   "cell_type": "code",
   "execution_count": 32,
   "id": "50c71406",
   "metadata": {},
   "outputs": [
    {
     "name": "stdout",
     "output_type": "stream",
     "text": [
      "The top 1 all university of founder is Stanford University occuring 1421 times\n",
      "The top 2 all university of founder is Massachusetts Institute of Technology occuring 795 times\n",
      "The top 3 all university of founder is University of California Berkeley occuring 698 times\n",
      "The top 4 all university of founder is University of California occuring 589 times\n",
      "The top 5 all university of founder is Harvard University occuring 481 times\n",
      "The top 6 all university of founder is Harvard Business School occuring 399 times\n",
      "The top 7 all university of founder is Carnegie Mellon University occuring 356 times\n",
      "The top 8 all university of founder is University of Pennsylvania occuring 350 times\n",
      "The top 9 all university of founder is Cornell University occuring 316 times\n",
      "The top 10 all university of founder is Wharton School of the University of Pennsylvania occuring 305 times\n",
      "The top 11 all university of founder is Stanford Graduate School of Business occuring 303 times\n",
      "The top 12 all university of founder is University of Southern California occuring 281 times\n",
      "The top 13 all university of founder is  Los Angeles occuring 273 times\n",
      "The top 14 all university of founder is Yale University occuring 258 times\n",
      "The top 15 all university of founder is Columbia University occuring 257 times\n",
      "The top 16 all university of founder is Duke University occuring 239 times\n",
      "The top 17 all university of founder is Princeton University occuring 238 times\n",
      "The top 18 all university of founder is University of Michigan occuring 236 times\n",
      "The top 19 all university of founder is The University of Texas at Austin occuring 208 times\n",
      "The top 20 all university of founder is New York University occuring 194 times\n",
      "The top 21 all university of founder is Northwestern University occuring 180 times\n",
      "The top 22 all university of founder is University of Washington occuring 165 times\n",
      "The top 23 all university of founder is Brown University occuring 160 times\n",
      "The top 24 all university of founder is University of Illinois Urbana-Champaign occuring 158 times\n",
      "The top 25 all university of founder is University of Virginia occuring 130 times\n",
      "The top 26 all university of founder is Georgia Institute of Technology occuring 126 times\n",
      "The top 27 all university of founder is Dartmouth College occuring 126 times\n",
      "The top 28 all university of founder is MIT - Sloan School of Management occuring 124 times\n",
      "The top 29 all university of founder is University of Wisconsin - Madison occuring 119 times\n",
      "The top 30 all university of founder is Columbia Business School occuring 119 times\n",
      "The top 31 all university of founder is Georgetown University occuring 115 times\n",
      "The top 32 all university of founder is University of Waterloo occuring 112 times\n",
      "The top 33 all university of founder is University of Cambridge occuring 112 times\n",
      "The top 34 all university of founder is Tel Aviv University occuring 111 times\n",
      "The top 35 all university of founder is University of Oxford occuring 110 times\n"
     ]
    }
   ],
   "source": [
    "temp = df_All_Companies_merged['universities_of_founders'].values[:].tolist()\n",
    "list_all_universities_of_founders_unfiltered = [x.split(',') for x in temp if isinstance(x, str)]\n",
    "list_all_universities_of_founders_unfiltered = reduce(lambda x,y :x+y ,list_all_universities_of_founders_unfiltered)\n",
    "list_all_universities_of_founders = list(set(list_all_universities_of_founders_unfiltered))\n",
    "list_all_universities_of_founders_and_count = [[0,x] for x in list_all_universities_of_founders]\n",
    "\n",
    "for x in list_all_universities_of_founders_unfiltered:\n",
    "    idx = list_all_universities_of_founders.index(x)\n",
    "    list_all_universities_of_founders_and_count[idx][0] += 1\n",
    "\n",
    "list_all_universities_of_founders_and_count.sort(reverse=True)\n",
    "\n",
    "for idx, value in enumerate(list_all_universities_of_founders_and_count):\n",
    "    if idx == 35: break\n",
    "    print('The top {} all university of founder is {} occuring {} times'.format(idx + 1, value[1], value[0] ))"
   ]
  },
  {
   "cell_type": "markdown",
   "id": "4a9bd965",
   "metadata": {},
   "source": [
    "## Degree of founders"
   ]
  },
  {
   "cell_type": "code",
   "execution_count": 13,
   "id": "153e9d7d",
   "metadata": {},
   "outputs": [
    {
     "name": "stdout",
     "output_type": "stream",
     "text": [
      "The top 1 all degree of founder is BS occuring 765 times\n",
      "The top 2 all degree of founder is BA occuring 514 times\n",
      "The top 3 all degree of founder is MBA occuring 477 times\n",
      "The top 4 all degree of founder is unknown occuring 332 times\n",
      "The top 5 all degree of founder is MS occuring 325 times\n",
      "The top 6 all degree of founder is B.S. occuring 208 times\n",
      "The top 7 all degree of founder is B.A. occuring 144 times\n",
      "The top 8 all degree of founder is PhD occuring 128 times\n",
      "The top 9 all degree of founder is B.S occuring 104 times\n",
      "The top 10 all degree of founder is BBA occuring 67 times\n",
      "The top 11 all degree of founder is M.S. occuring 61 times\n",
      "The top 12 all degree of founder is Ph.D occuring 60 times\n",
      "The top 13 all degree of founder is Bachelor occuring 55 times\n",
      "The top 14 all degree of founder is Ph.D. occuring 53 times\n",
      "The top 15 all degree of founder is Bachelor of Science occuring 50 times\n",
      "The top 16 all degree of founder is BSc occuring 49 times\n",
      "The top 17 all degree of founder is MA occuring 47 times\n",
      "The top 18 all degree of founder is MSc occuring 45 times\n",
      "The top 19 all degree of founder is Graduate occuring 43 times\n",
      "The top 20 all degree of founder is Bachelor's Degree occuring 42 times\n"
     ]
    }
   ],
   "source": [
    "temp = df_Successful_merged['degrees_of_founders'].values[:].tolist()\n",
    "list_all_degrees_of_founders_unfiltered = [x.split(',') for x in temp if isinstance(x, str)]\n",
    "list_all_degrees_of_founders_unfiltered = reduce(lambda x,y :x+y ,list_all_degrees_of_founders_unfiltered)\n",
    "list_all_degrees_of_founders = list(set(list_all_degrees_of_founders_unfiltered))\n",
    "list_all_degrees_of_founders_and_count = [[0,x] for x in list_all_degrees_of_founders]\n",
    "\n",
    "for x in list_all_degrees_of_founders_unfiltered:\n",
    "    idx = list_all_degrees_of_founders.index(x)\n",
    "    list_all_degrees_of_founders_and_count[idx][0] += 1\n",
    "\n",
    "list_all_degrees_of_founders_and_count.sort(reverse=True)\n",
    "\n",
    "for idx, value in enumerate(list_all_degrees_of_founders_and_count):\n",
    "    if idx == 20: break\n",
    "    print('The top {} all degree of founder is {} occuring {} times'.format(idx + 1, value[1], value[0] ))"
   ]
  },
  {
   "cell_type": "markdown",
   "id": "12471676",
   "metadata": {},
   "source": [
    "## Subject_degrees_of_founders"
   ]
  },
  {
   "cell_type": "code",
   "execution_count": 35,
   "id": "6fd53cb3",
   "metadata": {},
   "outputs": [
    {
     "name": "stdout",
     "output_type": "stream",
     "text": [
      "The top 1 all degree of founder is Computer Science occuring 732 times\n",
      "The top 2 all degree of founder is unknown occuring 582 times\n",
      "The top 3 all degree of founder is Economics occuring 203 times\n",
      "The top 4 all degree of founder is Electrical Engineering occuring 165 times\n",
      "The top 5 all degree of founder is Finance occuring 104 times\n",
      "The top 6 all degree of founder is Mechanical Engineering occuring 99 times\n",
      "The top 7 all degree of founder is Computer Engineering occuring 90 times\n",
      "The top 8 all degree of founder is Business Administration occuring 61 times\n",
      "The top 9 all degree of founder is Business occuring 59 times\n",
      "The top 10 all degree of founder is Physics occuring 55 times\n",
      "The top 11 all degree of founder is Mathematics occuring 55 times\n",
      "The top 12 all degree of founder is Entrepreneurship occuring 45 times\n",
      "The top 13 all degree of founder is  Economics occuring 41 times\n",
      "The top 14 all degree of founder is Political Science occuring 39 times\n",
      "The top 15 all degree of founder is Electrical Engineering and Computer Science occuring 39 times\n",
      "The top 16 all degree of founder is Engineering occuring 35 times\n",
      "The top 17 all degree of founder is  Computer Science occuring 34 times\n",
      "The top 18 all degree of founder is Marketing occuring 32 times\n",
      "The top 19 all degree of founder is Philosophy occuring 30 times\n",
      "The top 20 all degree of founder is Law occuring 30 times\n",
      "The top 21 all degree of founder is Electrical Engineering & Computer Science occuring 29 times\n",
      "The top 22 all degree of founder is Psychology occuring 28 times\n",
      "The top 23 all degree of founder is Management occuring 27 times\n",
      "The top 24 all degree of founder is History occuring 26 times\n",
      "The top 25 all degree of founder is Biology occuring 26 times\n",
      "The top 26 all degree of founder is  Mathematics occuring 25 times\n",
      "The top 27 all degree of founder is Electrical and Computer Engineering occuring 24 times\n",
      "The top 28 all degree of founder is Software Engineering occuring 22 times\n",
      "The top 29 all degree of founder is Information Systems occuring 22 times\n",
      "The top 30 all degree of founder is International Relations occuring 19 times\n",
      "The top 31 all degree of founder is Biomedical Engineering occuring 19 times\n",
      "The top 32 all degree of founder is  Finance occuring 18 times\n",
      "The top 33 all degree of founder is  Entrepreneurship occuring 17 times\n",
      "The top 34 all degree of founder is Neuroscience occuring 16 times\n",
      "The top 35 all degree of founder is Computer Science and Engineering occuring 16 times\n",
      "The top 36 all degree of founder is Chemistry occuring 16 times\n",
      "The top 37 all degree of founder is Bioengineering occuring 16 times\n",
      "The top 38 all degree of founder is Aerospace Engineering occuring 16 times\n",
      "The top 39 all degree of founder is Sociology occuring 15 times\n",
      "The top 40 all degree of founder is Information Technology occuring 15 times\n"
     ]
    }
   ],
   "source": [
    "temp = df_Successful_merged['subject_degrees_of_founders'].values[:].tolist()\n",
    "list_all_subject_degrees_of_founders_unfiltered = [x.split(',') for x in temp if isinstance(x, str)]\n",
    "list_all_subject_degrees_of_founders_unfiltered = reduce(lambda x,y :x+y ,list_all_subject_degrees_of_founders_unfiltered)\n",
    "list_all_subject_degrees_of_founders = list(set(list_all_subject_degrees_of_founders_unfiltered))\n",
    "list_all_subject_degrees_of_founders_and_count = [[0,x] for x in list_all_subject_degrees_of_founders]\n",
    "\n",
    "for x in list_all_subject_degrees_of_founders_unfiltered:\n",
    "    idx = list_all_subject_degrees_of_founders.index(x)\n",
    "    list_all_subject_degrees_of_founders_and_count[idx][0] += 1\n",
    "\n",
    "list_all_subject_degrees_of_founders_and_count.sort(reverse=True)\n",
    "\n",
    "for idx, value in enumerate(list_all_subject_degrees_of_founders_and_count):\n",
    "    if idx == 40: break\n",
    "    print('The top {} all degree of founder is {} occuring {} times'.format(idx + 1, value[1], value[0] ))"
   ]
  },
  {
   "cell_type": "markdown",
   "id": "2831ae01",
   "metadata": {},
   "source": [
    "## prev_companies_of_founders"
   ]
  },
  {
   "cell_type": "code",
   "execution_count": 36,
   "id": "ef968d0c",
   "metadata": {},
   "outputs": [
    {
     "name": "stdout",
     "output_type": "stream",
     "text": [
      "The top 1 previous company is Google occuring 220 times\n",
      "The top 2 previous company is Microsoft occuring 114 times\n",
      "The top 3 previous company is Meta occuring 87 times\n",
      "The top 4 previous company is Yahoo occuring 73 times\n",
      "The top 5 previous company is  Inc. occuring 73 times\n",
      "The top 6 previous company is Apple occuring 47 times\n",
      "The top 7 previous company is Branch occuring 45 times\n",
      "The top 8 previous company is Twitter occuring 43 times\n",
      "The top 9 previous company is Stanford University occuring 42 times\n",
      "The top 10 previous company is Goldman Sachs occuring 41 times\n",
      "The top 11 previous company is Cisco occuring 40 times\n",
      "The top 12 previous company is IBM occuring 38 times\n",
      "The top 13 previous company is Techstars occuring 36 times\n",
      "The top 14 previous company is McKinsey & Company occuring 36 times\n",
      "The top 15 previous company is Amazon occuring 35 times\n",
      "The top 16 previous company is Groupon occuring 33 times\n",
      "The top 17 previous company is Cobalt occuring 32 times\n",
      "The top 18 previous company is 500 Startups occuring 32 times\n",
      "The top 19 previous company is Zynga occuring 28 times\n",
      "The top 20 previous company is Salesforce occuring 27 times\n",
      "The top 21 previous company is Accenture occuring 27 times\n",
      "The top 22 previous company is Y Combinator occuring 26 times\n",
      "The top 23 previous company is PayPal occuring 26 times\n",
      "The top 24 previous company is Massachusetts Institute of Technology occuring 25 times\n",
      "The top 25 previous company is Embark occuring 24 times\n",
      "The top 26 previous company is Pioneer Fund occuring 23 times\n",
      "The top 27 previous company is LinkedIn occuring 23 times\n",
      "The top 28 previous company is Intel occuring 23 times\n",
      "The top 29 previous company is Deloitte occuring 23 times\n",
      "The top 30 previous company is Palantir Technologies occuring 22 times\n",
      "The top 31 previous company is Morgan Stanley occuring 21 times\n",
      "The top 32 previous company is Oracle occuring 20 times\n",
      "The top 33 previous company is Dropbox occuring 20 times\n",
      "The top 34 previous company is Uber occuring 19 times\n",
      "The top 35 previous company is Etsy occuring 19 times\n"
     ]
    }
   ],
   "source": [
    "temp = df_Successful_merged['prev_companies_of_founders'].values[:].tolist()\n",
    "list_all_prev_companies_of_founders_unfiltered = [x.split(',') for x in temp if isinstance(x, str)]\n",
    "list_all_prev_companies_of_founders_unfiltered = reduce(lambda x,y :x+y ,list_all_prev_companies_of_founders_unfiltered)\n",
    "list_all_prev_companies_of_founders = list(set(list_all_prev_companies_of_founders_unfiltered))\n",
    "list_all_prev_companies_of_founders_and_count = [[0,x] for x in list_all_prev_companies_of_founders]\n",
    "\n",
    "for x in list_all_prev_companies_of_founders_unfiltered:\n",
    "    idx = list_all_prev_companies_of_founders.index(x)\n",
    "    list_all_prev_companies_of_founders_and_count[idx][0] += 1\n",
    "\n",
    "list_all_prev_companies_of_founders_and_count.sort(reverse=True)\n",
    "\n",
    "for idx, value in enumerate(list_all_prev_companies_of_founders_and_count):\n",
    "    if idx == 35: break\n",
    "    print('The top {} previous company is {} occuring {} times'.format(idx + 1, value[1], value[0] ))"
   ]
  },
  {
   "cell_type": "markdown",
   "id": "19760447",
   "metadata": {},
   "source": [
    "## Prev_title_of_founders"
   ]
  },
  {
   "cell_type": "code",
   "execution_count": 37,
   "id": "5736767e",
   "metadata": {},
   "outputs": [
    {
     "name": "stdout",
     "output_type": "stream",
     "text": [
      "The top 1 previous title of founders is Co-Founder occuring 1843 times\n",
      "The top 2 previous title of founders is Founder occuring 1098 times\n",
      "The top 3 previous title of founders is Advisor occuring 968 times\n",
      "The top 4 previous title of founders is Founder & CEO occuring 698 times\n",
      "The top 5 previous title of founders is Co-Founder & CEO occuring 572 times\n",
      "The top 6 previous title of founders is Board Member occuring 572 times\n",
      "The top 7 previous title of founders is Co-founder occuring 470 times\n",
      "The top 8 previous title of founders is CEO occuring 339 times\n",
      "The top 9 previous title of founders is Co-Founder and CEO occuring 314 times\n",
      "The top 10 previous title of founders is Co-Founder & CTO occuring 312 times\n",
      "The top 11 previous title of founders is Team Member occuring 272 times\n",
      "The top 12 previous title of founders is Founder and CEO occuring 271 times\n",
      "The top 13 previous title of founders is Investor occuring 267 times\n",
      "The top 14 previous title of founders is Software Engineer occuring 243 times\n",
      "The top 15 previous title of founders is  CEO occuring 215 times\n",
      "The top 16 previous title of founders is Director occuring 213 times\n",
      "The top 17 previous title of founders is CTO occuring 202 times\n",
      "The top 18 previous title of founders is CEO & Co-Founder occuring 186 times\n",
      "The top 19 previous title of founders is Co-founder & CEO occuring 167 times\n",
      "The top 20 previous title of founders is Partner occuring 153 times\n"
     ]
    }
   ],
   "source": [
    "temp = df_Successful_merged['prev_title_of_founders'].values[:].tolist()\n",
    "list_all_prev_title_of_founders_unfiltered = [x.split(',') for x in temp if isinstance(x, str)]\n",
    "list_all_prev_title_of_founders_unfiltered = reduce(lambda x,y :x+y ,list_all_prev_title_of_founders_unfiltered)\n",
    "list_all_prev_title_of_founders = list(set(list_all_prev_title_of_founders_unfiltered))\n",
    "list_all_prev_title_of_founders_and_count = [[0,x] for x in list_all_prev_title_of_founders]\n",
    "\n",
    "for x in list_all_prev_title_of_founders_unfiltered:\n",
    "    idx = list_all_prev_title_of_founders.index(x)\n",
    "    list_all_prev_title_of_founders_and_count[idx][0] += 1\n",
    "\n",
    "list_all_prev_title_of_founders_and_count.sort(reverse=True)\n",
    "\n",
    "for idx, value in enumerate(list_all_prev_title_of_founders_and_count):\n",
    "    if idx == 20: break\n",
    "    print('The top {} previous title of founders is {} occuring {} times'.format(idx + 1, value[1], value[0] ))"
   ]
  }
 ],
 "metadata": {
  "kernelspec": {
   "display_name": "cs224n",
   "language": "python",
   "name": "cs224n"
  },
  "language_info": {
   "codemirror_mode": {
    "name": "ipython",
    "version": 3
   },
   "file_extension": ".py",
   "mimetype": "text/x-python",
   "name": "python",
   "nbconvert_exporter": "python",
   "pygments_lexer": "ipython3",
   "version": "3.9.12"
  }
 },
 "nbformat": 4,
 "nbformat_minor": 5
}
