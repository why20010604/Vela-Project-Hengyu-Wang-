{
 "cells": [
  {
   "cell_type": "code",
   "execution_count": 1,
   "id": "27e0b8cd",
   "metadata": {},
   "outputs": [
    {
     "ename": "ModuleNotFoundError",
     "evalue": "No module named 'seaborn'",
     "output_type": "error",
     "traceback": [
      "\u001b[0;31m---------------------------------------------------------------------------\u001b[0m",
      "\u001b[0;31mModuleNotFoundError\u001b[0m                       Traceback (most recent call last)",
      "Input \u001b[0;32mIn [1]\u001b[0m, in \u001b[0;36m<cell line: 10>\u001b[0;34m()\u001b[0m\n\u001b[1;32m      8\u001b[0m \u001b[38;5;28;01mimport\u001b[39;00m \u001b[38;5;21;01murllib\u001b[39;00m\n\u001b[1;32m      9\u001b[0m \u001b[38;5;28;01mimport\u001b[39;00m \u001b[38;5;21;01mdifflib\u001b[39;00m \n\u001b[0;32m---> 10\u001b[0m \u001b[38;5;28;01mimport\u001b[39;00m \u001b[38;5;21;01mseaborn\u001b[39;00m \u001b[38;5;28;01mas\u001b[39;00m \u001b[38;5;21;01msns\u001b[39;00m\n\u001b[1;32m     11\u001b[0m \u001b[38;5;28;01mimport\u001b[39;00m \u001b[38;5;21;01msklearn\u001b[39;00m\u001b[38;5;21;01m.\u001b[39;00m\u001b[38;5;21;01mmodel_selection\u001b[39;00m\n",
      "\u001b[0;31mModuleNotFoundError\u001b[0m: No module named 'seaborn'"
     ]
    }
   ],
   "source": [
    "#Import all the libraries\n",
    "%matplotlib inline\n",
    "import matplotlib.pyplot as plt\n",
    "import pandas as pd\n",
    "import numpy as np\n",
    "from functools import reduce\n",
    "import math\n",
    "import urllib\n",
    "import difflib \n",
    "import seaborn as sns\n",
    "import sklearn.model_selection"
   ]
  },
  {
   "cell_type": "code",
   "execution_count": 12,
   "id": "35084c16",
   "metadata": {},
   "outputs": [],
   "source": [
    "df_All_Companies_merged = pd. read_pickle(r'Data\\df_All_Companies_merged.pkl')"
   ]
  },
  {
   "cell_type": "code",
   "execution_count": 13,
   "id": "9df57e4c",
   "metadata": {},
   "outputs": [],
   "source": [
    "X = pd.DataFrame(df_All_Companies_merged).to_numpy()"
   ]
  },
  {
   "cell_type": "code",
   "execution_count": 14,
   "id": "978fe2fb",
   "metadata": {},
   "outputs": [],
   "source": [
    "label = X[:,-1]"
   ]
  },
  {
   "cell_type": "code",
   "execution_count": 15,
   "id": "724bd753",
   "metadata": {},
   "outputs": [],
   "source": [
    "n, d = X.shape\n"
   ]
  },
  {
   "cell_type": "code",
   "execution_count": 16,
   "id": "38328df9",
   "metadata": {},
   "outputs": [],
   "source": [
    "Data = np.zeros((n,28))"
   ]
  },
  {
   "cell_type": "markdown",
   "id": "9b88d4de",
   "metadata": {},
   "source": [
    "## First column of Data matrix: Number of founders"
   ]
  },
  {
   "cell_type": "code",
   "execution_count": 17,
   "id": "0c7445a1",
   "metadata": {},
   "outputs": [],
   "source": [
    "for i in range(n):\n",
    "    string = X[i,11]\n",
    "    if type(string) == float:\n",
    "        Data[i,0] = 1 # If the gender is not specified, guess it to be 1\n",
    "    else:\n",
    "        strlist = string.split(',')\n",
    "        Data[i,0] = len(strlist)"
   ]
  },
  {
   "cell_type": "markdown",
   "id": "e1400819",
   "metadata": {},
   "source": [
    "## Second column of Data matrix: City score"
   ]
  },
  {
   "cell_type": "code",
   "execution_count": 18,
   "id": "63b43c0c",
   "metadata": {},
   "outputs": [],
   "source": [
    "for i in range(n):\n",
    "    if X[i,3] not in CityDict:\n",
    "        Data[i,1] = 0\n",
    "    else:\n",
    "        Data[i,1] = CityDict[X[i,3]]"
   ]
  },
  {
   "cell_type": "markdown",
   "id": "32e4ee98",
   "metadata": {},
   "source": [
    "## 3rd - 6th column of Data matrix: category list"
   ]
  },
  {
   "cell_type": "code",
   "execution_count": 19,
   "id": "9a965f59",
   "metadata": {},
   "outputs": [],
   "source": [
    "for i in range(n):\n",
    "    alist = []\n",
    "    categoryList = X[i,4]\n",
    "\n",
    "    if type(categoryList) == float:\n",
    "        alist = [0]\n",
    "    else:\n",
    "        categoryList = categoryList.split(',')\n",
    "        for item in categoryList:\n",
    "            if item not in CatagoryListDict:\n",
    "                alist.append(0.1)\n",
    "            else:\n",
    "                alist.append(CatagoryListDict[item])\n",
    "    Len = len(alist)\n",
    "    total = sum(alist)\n",
    "    MAX = max(alist)\n",
    "    MIN = min(alist)\n",
    "    AV = total/Len\n",
    "    Data[i,2] = total\n",
    "    Data[i,3] = MAX\n",
    "    Data[i,4] = MIN\n",
    "    Data[i,5] = AV   "
   ]
  },
  {
   "cell_type": "markdown",
   "id": "2424ce28",
   "metadata": {},
   "source": [
    "## 7th - 10th column of Data matrix: category groups list"
   ]
  },
  {
   "cell_type": "code",
   "execution_count": 20,
   "id": "ea0b4f66",
   "metadata": {},
   "outputs": [],
   "source": [
    "for i in range(n):\n",
    "    alist = []\n",
    "    categoryGroupList = X[i,5]\n",
    "\n",
    "    if type(categoryGroupList) == float:\n",
    "        alist = [0]\n",
    "    else:\n",
    "        categoryGroupList = categoryGroupList.split(',')\n",
    "        for item in categoryGroupList:\n",
    "            if item not in CatagoryGroupsListDict:\n",
    "                alist.append(0.1)\n",
    "            else:\n",
    "                alist.append(CatagoryGroupsListDict[item])\n",
    "    Len = len(alist)\n",
    "    total = sum(alist)\n",
    "    MAX = max(alist)\n",
    "    MIN = min(alist)\n",
    "    AV = total/Len\n",
    "    Data[i,6] = total\n",
    "    Data[i,7] = MAX\n",
    "    Data[i,8] = MIN\n",
    "    Data[i,9] = AV   "
   ]
  },
  {
   "cell_type": "markdown",
   "id": "98c4ad6d",
   "metadata": {},
   "source": [
    "## 11th - 14th column of Data matrix: all seed investors"
   ]
  },
  {
   "cell_type": "code",
   "execution_count": 21,
   "id": "852e8af8",
   "metadata": {},
   "outputs": [],
   "source": [
    "for i in range(n):\n",
    "    alist = []\n",
    "    categoryList = X[i,7]\n",
    "\n",
    "    if type(categoryList) == float:\n",
    "        alist = [0]\n",
    "    else:\n",
    "        categoryList = categoryList.split(',')\n",
    "        for item in categoryList:\n",
    "            if item not in All_seed_investors_Dict:\n",
    "                alist.append(0.1)\n",
    "            else:\n",
    "                alist.append(All_seed_investors_Dict[item])\n",
    "    Len = len(alist)\n",
    "    total = sum(alist)\n",
    "    MAX = max(alist)\n",
    "    MIN = min(alist)\n",
    "    AV = total/Len\n",
    "    Data[i,10] = total\n",
    "    Data[i,11] = MAX\n",
    "    Data[i,12] = MIN\n",
    "    Data[i,13] = AV   "
   ]
  },
  {
   "cell_type": "markdown",
   "id": "1c6d5f01",
   "metadata": {},
   "source": [
    "## 15th - 18th column of Data matrix: university scores of founders"
   ]
  },
  {
   "cell_type": "code",
   "execution_count": 22,
   "id": "3277d709",
   "metadata": {},
   "outputs": [],
   "source": [
    "for i in range(n):\n",
    "    alist = []\n",
    "    categoryList = X[i,8]\n",
    "\n",
    "    if type(categoryList) == float:\n",
    "        alist = [0]\n",
    "    else:\n",
    "        categoryList = categoryList.split(',')\n",
    "        for item in categoryList:\n",
    "            if item not in University_of_foundersDict:\n",
    "                alist.append(0.1)\n",
    "            else:\n",
    "                alist.append(University_of_foundersDict[item])\n",
    "    Len = len(alist)\n",
    "    total = sum(alist)\n",
    "    MAX = max(alist)\n",
    "    MIN = min(alist)\n",
    "    AV = total/Len\n",
    "    Data[i,14] = total\n",
    "    Data[i,15] = MAX\n",
    "    Data[i,16] = MIN\n",
    "    Data[i,17] = AV   \n",
    "    \n",
    "    "
   ]
  },
  {
   "cell_type": "markdown",
   "id": "ce1560bf",
   "metadata": {},
   "source": [
    "## 19th -- 22nd column of Data matrix: degree scores of founders"
   ]
  },
  {
   "cell_type": "code",
   "execution_count": 23,
   "id": "5bd90d3d",
   "metadata": {},
   "outputs": [],
   "source": [
    "for i in range(n):\n",
    "    alist = []\n",
    "    categoryList = X[i,9]\n",
    "\n",
    "    if type(categoryList) == float:\n",
    "        alist = [0]\n",
    "    else:\n",
    "        categoryList = categoryList.split(',')\n",
    "        #print(categoryList)\n",
    "        for item in categoryList:\n",
    "            if item == '':\n",
    "                categoryList.remove(item)\n",
    "        for item in categoryList:\n",
    "            letter = item[0]\n",
    "            if letter not in Degree_of_founders_Dict:\n",
    "                alist.append(0.1)\n",
    "            else:\n",
    "                alist.append(Degree_of_founders_Dict[letter])\n",
    "           \n",
    "    Len = len(alist)\n",
    "    total = sum(alist)\n",
    "    MAX = max(alist)\n",
    "    MIN = min(alist)\n",
    "    AV = total/Len\n",
    "    Data[i,18] = total\n",
    "    Data[i,19] = MAX\n",
    "    Data[i,20] = MIN\n",
    "    Data[i,21] = AV   "
   ]
  },
  {
   "cell_type": "markdown",
   "id": "4a78c973",
   "metadata": {},
   "source": [
    "## 23rd - 26th column of Data matrix: Subject score of founders"
   ]
  },
  {
   "cell_type": "code",
   "execution_count": 24,
   "id": "3ca970fa",
   "metadata": {},
   "outputs": [],
   "source": [
    "for i in range(n):\n",
    "    alist = []\n",
    "    categoryList = X[i,10]\n",
    "\n",
    "    if type(categoryList) == float:\n",
    "        alist = [0]\n",
    "    elif type(categoryList) == int:\n",
    "        alist = [0]\n",
    "    else:\n",
    "        categoryList = categoryList.split(',')\n",
    "        for item in categoryList:\n",
    "            if item not in Subject_degrees_of_founders_Dict:\n",
    "                alist.append(0.1)\n",
    "            else:\n",
    "                alist.append(Subject_degrees_of_founders_Dict[item])\n",
    "    Len = len(alist)\n",
    "    total = sum(alist)\n",
    "    MAX = max(alist)\n",
    "    MIN = min(alist)\n",
    "    AV = total/Len\n",
    "    Data[i,22] = total\n",
    "    Data[i,23] = MAX\n",
    "    Data[i,24] = MIN\n",
    "    Data[i,25] = AV   "
   ]
  },
  {
   "cell_type": "markdown",
   "id": "6616781c",
   "metadata": {},
   "source": [
    "## 27th column of Data matrix: previous companies of founders "
   ]
  },
  {
   "cell_type": "code",
   "execution_count": 25,
   "id": "dd0d1806",
   "metadata": {},
   "outputs": [],
   "source": [
    "for i in range(n):\n",
    "    total = 0\n",
    "    categoryList = X[i,13]\n",
    "\n",
    "    if type(categoryList) == float:\n",
    "        total = 0\n",
    "    else:\n",
    "        categoryList = categoryList.split(',')\n",
    "        for item in categoryList:\n",
    "            if item in Prev_companies_of_founders_list:\n",
    "                total +=1\n",
    "   \n",
    "    Data[i,26] = total\n",
    "   \n",
    "    "
   ]
  },
  {
   "cell_type": "markdown",
   "id": "e1c170ff",
   "metadata": {},
   "source": [
    "## 28th column of Data matrix: previous title of founders"
   ]
  },
  {
   "cell_type": "code",
   "execution_count": 26,
   "id": "853ca6a2",
   "metadata": {},
   "outputs": [],
   "source": [
    "for i in range(n):\n",
    "    total = 0\n",
    "    categoryList = X[i,14]\n",
    "\n",
    "    if type(categoryList) == float:\n",
    "        total = 0\n",
    "    else:\n",
    "        categoryList = categoryList.split(',')\n",
    "        for item in categoryList:\n",
    "            if item in Prev_title_of_founders_list:\n",
    "                total +=1\n",
    "   \n",
    "    Data[i,27] = total\n",
    "   "
   ]
  },
  {
   "cell_type": "markdown",
   "id": "ebe3982c",
   "metadata": {},
   "source": [
    "## Replace all missing data by the mean of that column"
   ]
  },
  {
   "cell_type": "code",
   "execution_count": 27,
   "id": "8c22b0d5",
   "metadata": {},
   "outputs": [],
   "source": [
    "for j in range(2,26):\n",
    "    avg = np.mean(Data[:,j])\n",
    "    for i in range(n):\n",
    "        if Data[i,j] == 0:\n",
    "            Data[i,j] = avg"
   ]
  },
  {
   "cell_type": "markdown",
   "id": "2af6e0c8",
   "metadata": {},
   "source": [
    "# Data Visualisation"
   ]
  },
  {
   "cell_type": "code",
   "execution_count": 28,
   "id": "c64c2cdf",
   "metadata": {},
   "outputs": [],
   "source": [
    "%matplotlib inline\n",
    "import numpy as np\n",
    "import matplotlib.pyplot as plt\n",
    "import scipy\n",
    "import pandas"
   ]
  },
  {
   "cell_type": "code",
   "execution_count": null,
   "id": "b03e86c3",
   "metadata": {},
   "outputs": [],
   "source": []
  },
  {
   "cell_type": "markdown",
   "id": "0048daf0",
   "metadata": {},
   "source": [
    "## PCA"
   ]
  },
  {
   "cell_type": "code",
   "execution_count": 29,
   "id": "46bc5a37",
   "metadata": {},
   "outputs": [],
   "source": [
    "from sklearn.decomposition import PCA"
   ]
  },
  {
   "cell_type": "code",
   "execution_count": 30,
   "id": "8e25ce17",
   "metadata": {},
   "outputs": [],
   "source": [
    "pca = PCA() # Initialize with n_components parameter to only find the top eigenvectors\n",
    "z = pca.fit_transform(Data)"
   ]
  },
  {
   "cell_type": "code",
   "execution_count": 31,
   "id": "3be13f10",
   "metadata": {},
   "outputs": [
    {
     "data": {
      "image/png": "[encoded data removed]",
      "text/plain": [
       "<Figure size 432x288 with 1 Axes>"
      ]
     },
     "metadata": {
      "needs_background": "light"
     },
     "output_type": "display_data"
    }
   ],
   "source": [
    "plt.scatter(z[:,0],z[:,1])\n",
    "plt.title(\"Scatter plot of 1st and 2nd PCs\",size=18)\n",
    "plt.xlabel(\"PC 1\",size=14)\n",
    "plt.ylabel(\"PC 2\",size=14)\n",
    "plt.axis(\"equal\")\n",
    "plt.show()"
   ]
  },
  {
   "cell_type": "code",
   "execution_count": 32,
   "id": "69ef6f2d",
   "metadata": {},
   "outputs": [
    {
     "data": {
      "image/png": "[encoded data removed]",
      "text/plain": [
       "<Figure size 432x288 with 1 Axes>"
      ]
     },
     "metadata": {
      "needs_background": "light"
     },
     "output_type": "display_data"
    }
   ],
   "source": [
    "plt.scatter(z[:,0],z[:,1],c=label)\n",
    "plt.title(\"Scatter plot of 1st and 2nd PCs\",size=18)\n",
    "plt.xlabel(\"PC 1\",size=14)\n",
    "plt.ylabel(\"PC 2\",size=14)\n",
    "plt.axis(\"equal\")\n",
    "plt.show()"
   ]
  },
  {
   "cell_type": "markdown",
   "id": "c942acce",
   "metadata": {},
   "source": [
    "## MDS"
   ]
  },
  {
   "cell_type": "code",
   "execution_count": 68,
   "id": "5794b9ab",
   "metadata": {},
   "outputs": [],
   "source": [
    "from sklearn.manifold import MDS"
   ]
  },
  {
   "cell_type": "code",
   "execution_count": 69,
   "id": "99333cc0",
   "metadata": {},
   "outputs": [
    {
     "data": {
      "image/png": "[encoded data removed]",
      "text/plain": [
       "<Figure size 432x288 with 1 Axes>"
      ]
     },
     "metadata": {
      "needs_background": "light"
     },
     "output_type": "display_data"
    }
   ],
   "source": [
    "mds = MDS(n_components=2,verbose=1,eps=1e-5)\n",
    "mds.fit(Data)\n",
    "plt.scatter(mds.embedding_[:,0],mds.embedding_[:,1],c=label)\n",
    "plt.title(\"MDS Plot\",size=18)\n",
    "plt.axis(\"equal\")\n",
    "plt.show()"
   ]
  },
  {
   "cell_type": "markdown",
   "id": "e16cb8c1",
   "metadata": {},
   "source": [
    "## T-SNE"
   ]
  },
  {
   "cell_type": "code",
   "execution_count": 33,
   "id": "d52b95a8",
   "metadata": {},
   "outputs": [],
   "source": [
    "from sklearn.manifold import TSNE"
   ]
  },
  {
   "cell_type": "code",
   "execution_count": 34,
   "id": "730f8a8e",
   "metadata": {},
   "outputs": [
    {
     "name": "stderr",
     "output_type": "stream",
     "text": [
      "/Users/henrywong/opt/miniconda3/envs/6.86x/lib/python3.10/site-packages/sklearn/manifold/_t_sne.py:780: FutureWarning: The default initialization in TSNE will change from 'random' to 'pca' in 1.2.\n",
      "  warnings.warn(\n",
      "/Users/henrywong/opt/miniconda3/envs/6.86x/lib/python3.10/site-packages/sklearn/manifold/_t_sne.py:790: FutureWarning: The default learning rate in TSNE will change from 200.0 to 'auto' in 1.2.\n",
      "  warnings.warn(\n"
     ]
    },
    {
     "name": "stdout",
     "output_type": "stream",
     "text": [
      "[t-SNE] Computing 121 nearest neighbors...\n",
      "[t-SNE] Indexed 11189 samples in 0.000s...\n",
      "[t-SNE] Computed neighbors for 11189 samples in 2.519s...\n",
      "[t-SNE] Computed conditional probabilities for sample 1000 / 11189\n",
      "[t-SNE] Computed conditional probabilities for sample 2000 / 11189\n",
      "[t-SNE] Computed conditional probabilities for sample 3000 / 11189\n",
      "[t-SNE] Computed conditional probabilities for sample 4000 / 11189\n",
      "[t-SNE] Computed conditional probabilities for sample 5000 / 11189\n",
      "[t-SNE] Computed conditional probabilities for sample 6000 / 11189\n",
      "[t-SNE] Computed conditional probabilities for sample 7000 / 11189\n",
      "[t-SNE] Computed conditional probabilities for sample 8000 / 11189\n",
      "[t-SNE] Computed conditional probabilities for sample 9000 / 11189\n",
      "[t-SNE] Computed conditional probabilities for sample 10000 / 11189\n",
      "[t-SNE] Computed conditional probabilities for sample 11000 / 11189\n",
      "[t-SNE] Computed conditional probabilities for sample 11189 / 11189\n",
      "[t-SNE] Mean sigma: 1.689842\n",
      "[t-SNE] KL divergence after 250 iterations with early exaggeration: 88.431976\n",
      "[t-SNE] KL divergence after 1000 iterations: 1.859130\n"
     ]
    },
    {
     "data": {
      "image/png": "[encoded data removed]",
      "text/plain": [
       "<Figure size 432x288 with 1 Axes>"
      ]
     },
     "metadata": {
      "needs_background": "light"
     },
     "output_type": "display_data"
    }
   ],
   "source": [
    "tsne = TSNE(n_components=2,verbose=1,perplexity=40) # Higher perplexity means that you are trying to match larger neighbourhoods\n",
    "z_tsne = tsne.fit_transform(Data)\n",
    "plt.scatter(z_tsne[:,0],z_tsne[:,1],c=label)\n",
    "plt.title(\"TSNE, perplexity 40\",size=18)\n",
    "plt.axis(\"equal\")\n",
    "plt.show()"
   ]
  },
  {
   "cell_type": "code",
   "execution_count": 38,
   "id": "26cd237c",
   "metadata": {},
   "outputs": [],
   "source": [
    "label=label.astype('int')"
   ]
  },
  {
   "cell_type": "markdown",
   "id": "0d11fbb8",
   "metadata": {},
   "source": [
    "# RBF Kernelised SVM"
   ]
  },
  {
   "cell_type": "code",
   "execution_count": 77,
   "id": "922ae2ac",
   "metadata": {},
   "outputs": [
    {
     "name": "stderr",
     "output_type": "stream",
     "text": [
      "/Users/henrywong/opt/miniconda3/envs/6.86x/lib/python3.10/site-packages/sklearn/utils/deprecation.py:87: FutureWarning: Function plot_confusion_matrix is deprecated; Function `plot_confusion_matrix` is deprecated in 1.0 and will be removed in 1.2. Use one of the class methods: ConfusionMatrixDisplay.from_predictions or ConfusionMatrixDisplay.from_estimator.\n",
      "  warnings.warn(msg, category=FutureWarning)\n"
     ]
    },
    {
     "data": {
      "image/png": "[encoded data removed]",
      "text/plain": [
       "<Figure size 432x288 with 2 Axes>"
      ]
     },
     "metadata": {
      "needs_background": "light"
     },
     "output_type": "display_data"
    },
    {
     "name": "stdout",
     "output_type": "stream",
     "text": [
      "Model accuracy: 0.8258868128892499\n"
     ]
    }
   ],
   "source": [
    "import matplotlib.pyplot as plt\n",
    "import numpy as np\n",
    "from sklearn.datasets import make_gaussian_quantiles\n",
    "from sklearn.svm import SVC\n",
    "from sklearn.model_selection import train_test_split\n",
    "from sklearn.metrics import plot_confusion_matrix, accuracy_score\n",
    "from mlxtend.plotting import plot_decision_regions\n",
    "\n",
    "\n",
    "\n",
    "# Split into training and testing data\n",
    "X_train, X_test, y_train, y_test = train_test_split(z_tsne, label, test_size=0.33, random_state=42)\n",
    "\n",
    "# Create the SVM\n",
    "svm = SVC(random_state=None, kernel='rbf', gamma=0.008, C=10)\n",
    "\n",
    "# Fit the data to the SVM classifier\n",
    "svm = svm.fit(X_train, y_train)\n",
    "\n",
    "# Evaluate by means of a confusion matrix\n",
    "matrix = plot_confusion_matrix(svm, X_test, y_test,\n",
    "                                 cmap=plt.cm.Blues,\n",
    "                                 normalize='true')\n",
    "plt.title('Confusion matrix for RBF SVM')\n",
    "plt.show(matrix)\n",
    "plt.show()\n",
    "\n",
    "# Generate predictions\n",
    "y_pred = svm.predict(X_test)\n",
    "\n",
    "# Evaluate by means of accuracy\n",
    "accuracy = accuracy_score(y_test, y_pred)\n",
    "print(f'Model accuracy: {accuracy}')\n",
    "\n",
    "# Plot decision boundary\n",
    "#plot_decision_regions(X_test, y_test, clf=svm, legend=2)\n",
    "#plt.show()"
   ]
  },
  {
   "cell_type": "markdown",
   "id": "5d32010c",
   "metadata": {},
   "source": [
    "# Logistic Regression"
   ]
  },
  {
   "cell_type": "code",
   "execution_count": 78,
   "id": "99a4af42",
   "metadata": {},
   "outputs": [
    {
     "data": {
      "text/plain": [
       "0.7338207419442188"
      ]
     },
     "execution_count": 78,
     "metadata": {},
     "output_type": "execute_result"
    }
   ],
   "source": [
    "from sklearn.linear_model import LogisticRegression, LogisticRegressionCV\n",
    "log_reg = LogisticRegressionCV(cv=5,Cs=[0.001,0.01,0.005,0.1,0.5,1,5,10],max_iter=10000,penalty=\"l1\",solver=\"liblinear\",multi_class=\"auto\")\n",
    "log_reg.fit(X_train,y_train)\n",
    "log_reg.score(X_test,y_test)"
   ]
  },
  {
   "cell_type": "markdown",
   "id": "2621d027",
   "metadata": {},
   "source": [
    "# Random Forest"
   ]
  },
  {
   "cell_type": "code",
   "execution_count": 79,
   "id": "28b9f3ee",
   "metadata": {},
   "outputs": [
    {
     "name": "stdout",
     "output_type": "stream",
     "text": [
      "Model accuracy: 0.7338207419442188\n"
     ]
    }
   ],
   "source": [
    "from sklearn.ensemble import RandomForestClassifier\n",
    "rf = RandomForestClassifier(max_depth=2, random_state=0)\n",
    "rf.fit(X_train, y_train)\n",
    "# Generate predictions\n",
    "y_pred = rf.predict(X_test)\n",
    "\n",
    "# Evaluate by means of accuracy\n",
    "accuracy = accuracy_score(y_test, y_pred)\n",
    "print(f'Model accuracy: {accuracy}')\n"
   ]
  },
  {
   "cell_type": "markdown",
   "id": "c047aa86",
   "metadata": {},
   "source": [
    "# Gradient Boosting"
   ]
  },
  {
   "cell_type": "code",
   "execution_count": null,
   "id": "24c44c43",
   "metadata": {},
   "outputs": [],
   "source": [
    "from sklearn.ensemble import GradientBoostingClassifier\n",
    "clf = GradientBoostingClassifier(n_estimators=100, learning_rate=1.0,max_depth=1, random_state=0).fit(X_train, y_train)\n",
    "clf.score(X_test, y_test)"
   ]
  },
  {
   "cell_type": "code",
   "execution_count": null,
   "id": "e95047c5",
   "metadata": {},
   "outputs": [],
   "source": []
  },
  {
   "cell_type": "code",
   "execution_count": null,
   "id": "e075a4a0",
   "metadata": {},
   "outputs": [],
   "source": []
  },
  {
   "cell_type": "code",
   "execution_count": null,
   "id": "683285c3",
   "metadata": {},
   "outputs": [],
   "source": []
  },
  {
   "cell_type": "code",
   "execution_count": null,
   "id": "1920b906",
   "metadata": {},
   "outputs": [],
   "source": []
  },
  {
   "cell_type": "code",
   "execution_count": null,
   "id": "85197214",
   "metadata": {},
   "outputs": [],
   "source": []
  },
  {
   "cell_type": "code",
   "execution_count": null,
   "id": "66b1c8bf",
   "metadata": {},
   "outputs": [],
   "source": []
  },
  {
   "cell_type": "code",
   "execution_count": null,
   "id": "bf55361c",
   "metadata": {},
   "outputs": [],
   "source": []
  },
  {
   "cell_type": "markdown",
   "id": "9b2fac83",
   "metadata": {},
   "source": [
    "# City dictionary"
   ]
  },
  {
   "cell_type": "code",
   "execution_count": 2,
   "id": "d09b8de7",
   "metadata": {},
   "outputs": [],
   "source": [
    "CityDict = {'San Francisco':5,'New York':4, 'Los Angeles':3,'Palo Alto':3,'Boston':3,\n",
    "            'Mountain View':3,'Brooklyn':3,'San Mateo':3, 'Seattle':3, 'Cambridge':2, \n",
    "            'Austin':2, 'Redwood City':2, 'Santa Monica':2,'Oakland':1, 'Chicago':1, 'San Jose':1, \n",
    "            'Menlo Park':1, 'Washington':1, 'Santa Clara':1, 'Berkeley':1}\n"
   ]
  },
  {
   "cell_type": "markdown",
   "id": "e5e635e3",
   "metadata": {},
   "source": [
    "# Category list dictionary"
   ]
  },
  {
   "cell_type": "code",
   "execution_count": 3,
   "id": "5849cecf",
   "metadata": {},
   "outputs": [],
   "source": [
    "CatagoryListDict = {'Software':5, 'Information Technology':3, 'Health Care':3, 'E-Commerce':3, 'Internet':3,\n",
    "                    'SaaS':3, 'FinTech':3, 'Mobile':3, 'Artificial Intelligence':2, 'Financial Services':2,\n",
    "                    'Enterprise Software':2, 'Analytics':2, 'Apps':2, 'Machine Learning':2, 'Finance':2, \n",
    "                    'Big Data':1, 'Education':1, 'Marketplace':1, 'Mobile Apps':1, 'Biotechnology':1,\n",
    "                    'Real Estate':1, 'Wellness':1, 'Social Media':1, 'Medical':1, 'Retail':1, \n",
    "                    'Blockchain':0.5, 'Payments':0.5, 'Human Resources':0.5, 'Security':0.5, 'Cryptocurrency':0.5,\n",
    "                   'Cloud Computing':0.5, 'Fashion':0.5, 'Food and Beverage':0.5, 'Computer':0.5, 'Advertising':0.5,\n",
    "                   'Logistics':0.5, 'Robotics':0.5, 'Cyber Security':0.5, 'Developer Tools':0.5, 'Developer APIs':0.5}"
   ]
  },
  {
   "cell_type": "markdown",
   "id": "709dcdf2",
   "metadata": {},
   "source": [
    "# Category groups list dictionary"
   ]
  },
  {
   "cell_type": "code",
   "execution_count": 4,
   "id": "f7a84315",
   "metadata": {},
   "outputs": [],
   "source": [
    "CatagoryGroupsListDict = {'Software':5, 'Information Technology':3, 'Internet Services':3, 'Data and Analytics':3, \n",
    "                          'Financial Services':3,\n",
    "                    'Commerce and Shopping':3, 'Health Care':3, 'Science and Engineering':3, \n",
    "                          'Mobile':2, 'Hardware':2,\n",
    "                    'Media and Entertainment':2, 'Artificial Intelligence':2, 'Apps':2, 'Sales and Marketing':2, \n",
    "                          'Professional Services':2, \n",
    "                    'Community and Lifestyle':1, 'Transportation':1, 'Real Estate':1, 'Payments':1, 'Design':1,\n",
    "                         'Consumer Electronics':1, 'Privacy and Security':1, 'Administrative Services':1, \n",
    "                          'Consumer Goods':1, 'Food and Beverage':1,\n",
    "                    'Content and Publishing':1, 'Biotechnology':1, 'Sports':1, \n",
    "                          'Video':1, 'Messaging and Telecommunications':1,'Travel and Tourism':1,'Advertising':1}"
   ]
  },
  {
   "cell_type": "markdown",
   "id": "6d1ec391",
   "metadata": {},
   "source": [
    "# All_seed_investors_Dict"
   ]
  },
  {
   "cell_type": "code",
   "execution_count": 5,
   "id": "194d9849",
   "metadata": {},
   "outputs": [],
   "source": [
    "All_seed_investors_Dict = {'SV Angel':5, 'BoxGroup':3, 'Great Oaks Venture Capital':3, 'Soma Capital':3, \n",
    "                          'Initialized Capital':3,\n",
    "                    'DCVC':3, 'Tuesday Capital':3, 'Ulu Ventures':3, \n",
    "                          'RRE Ventures':2, 'Wei Guo':2,\n",
    "                    'Accel':2, 'Acequia Capital (AceCap)':2, 'Abstract Ventures':2, 'Accomplice':2, \n",
    "                          'Susa Ventures':2, \n",
    "                    'Scott Belsky':1, 'Pear VC':1, 'Haystack':1, 'NextView Ventures':1, 'UpHonest Capital':1,\n",
    "                         'Kevin Moore':1, 'Digital Currency Group':1, 'Amino Capital':1, \n",
    "                          'Harrison Metal':1, 'Canaan Partners':1,\n",
    "                    'Rothenberg Ventures':1, 'Graph Ventures':1, 'Kevin Mahaffey':1, \n",
    "                          'Expansion Venture Capital':1, 'Lee Linden':1,\n",
    "                         'ACE & Company':1, 'Tim Draper':1,\n",
    "                    'Atlas Venture':1, 'Spark Capital':1, 'Social Leverage':1}"
   ]
  },
  {
   "cell_type": "markdown",
   "id": "4bc67291",
   "metadata": {},
   "source": [
    "# University of founders"
   ]
  },
  {
   "cell_type": "code",
   "execution_count": 6,
   "id": "20872c30",
   "metadata": {},
   "outputs": [],
   "source": [
    "University_of_foundersDict = {'Stanford University':5, 'Massachusetts Institute of Technology':3, \n",
    "                          'University of California Berkeley':3, 'University of California':3, \n",
    "                          'Harvard University':3,\n",
    "                    'Harvard Business School':3, 'Carnegie Mellon University':3, 'University of Pennsylvania':3, \n",
    "                          'Cornell University':2, 'Wharton School of the University of Pennsylvania':2,\n",
    "                    'Stanford Graduate School of Business':2, 'University of Southern California':2, \n",
    "                          ' Los Angeles':2, 'Yale University':2, \n",
    "                          'Columbia University':2, \n",
    "                    'Duke University':1, 'Princeton University':1, 'University of Michigan':1, \n",
    "                          'The University of Texas at Austin':1, 'New York University':1,\n",
    "                         'Northwestern University':1,'University of Washington':1,\n",
    "                          'Brown University':1,'University of Illinois Urbana-Champaign':1,\n",
    "                          'University of Virginia':1,'Georgia Institute of Technology':1,\n",
    "                          'Dartmouth College':2,'MIT - Sloan School of Management':4,\n",
    "                          'University of Wisconsin - Madison':1,'Columbia Business School':3,\n",
    "                          'Georgetown University':1,'University of Waterloo':1,'University of Cambridge':2,\n",
    "                         'Tel Aviv University':1,'University of Oxford':2}"
   ]
  },
  {
   "cell_type": "markdown",
   "id": "b02cf96b",
   "metadata": {},
   "source": [
    "# Degree of founders"
   ]
  },
  {
   "cell_type": "code",
   "execution_count": 7,
   "id": "7faa211d",
   "metadata": {},
   "outputs": [],
   "source": [
    "Degree_of_founders_Dict = {'P':5,'M':3,'B':2,'J':5,'G':3}"
   ]
  },
  {
   "cell_type": "markdown",
   "id": "af089fda",
   "metadata": {},
   "source": [
    "# Subject_degrees_of_founders"
   ]
  },
  {
   "cell_type": "code",
   "execution_count": 8,
   "id": "643010b3",
   "metadata": {},
   "outputs": [],
   "source": [
    "Subject_degrees_of_founders_Dict = {'Computer Science':5, 'Economics':3, \n",
    "                          'Electrical Engineering':3, 'Finance':3, \n",
    "                          'Mechanical Engineering':3,\n",
    "                    'Computer Engineering':3, 'Business Administration':3, 'Business':3, \n",
    "                          'Physics':2, 'Mathematics':3,\n",
    "                    'Entrepreneurship':2, ' Economics':2, \n",
    "                          'Political Science':2, 'Electrical Engineering and Computer Science':3, \n",
    "                          'Engineering':2, \n",
    "                    ' Computer Science':5, 'Marketing':1, 'Philosophy':1, \n",
    "                          'Law':1, 'Electrical Engineering & Computer Science':1,\n",
    "                          'Psychology':1, 'Management':1,\n",
    "                    'History':2, 'Biology':2, ' Mathematics':3,\n",
    "                                    'Electrical and Computer Engineering':3, 'Software Engineering':5, \n",
    "                          'Information Systems':3, 'International Relations':1,\n",
    "                          'Biomedical Engineering':1, ' Finance':3,\n",
    "                                    ' Entrepreneurship':1, 'Neuroscience':1,\n",
    "                          'Computer Science and Engineering':5, 'Chemistry':1,\n",
    "                    'Bioengineering':1, 'Aerospace Engineering':1, 'Sociology':1,\n",
    "                                    'Information Technology':3}"
   ]
  },
  {
   "cell_type": "markdown",
   "id": "0f16a07f",
   "metadata": {},
   "source": [
    "# Prev_title_of_founders"
   ]
  },
  {
   "cell_type": "code",
   "execution_count": 9,
   "id": "56530ae6",
   "metadata": {},
   "outputs": [],
   "source": [
    "Prev_title_of_founders_list = ['Co-Founder', 'Founder' 'Advisor', 'Founder & CEO', 'Co-Founder & CEO', 'Board Member',\n",
    "                               'Co-founder', 'CEO', 'Co-Founder and CEO', 'Co-Founder & CTO', 'Team Member',\n",
    "                               'Founder and CEO', 'Investor', 'Software Engineer', ' CEO',\n",
    "                              'Director','CTO','CEO & Co-Founder','Co-founder & CEO']"
   ]
  },
  {
   "cell_type": "markdown",
   "id": "634f997e",
   "metadata": {},
   "source": [
    "# prev_companies_of_founders"
   ]
  },
  {
   "cell_type": "code",
   "execution_count": 10,
   "id": "583c70b3",
   "metadata": {},
   "outputs": [],
   "source": [
    "Prev_companies_of_founders_list = ['Google', 'Microsoft' 'Meta', 'Yahoo', 'Apple', 'Twitter',\n",
    "                               'Stanford University', 'Goldman Sachs', 'Cisco', 'IBM', 'Techstars',\n",
    "                               'McKinsey & Company', 'Amazon','Groupon',' Inc.','Cobalt',\n",
    "                                   '500 Startups','Zynga','Salesforce','Accenture','Y Combinator','PayPal',\n",
    "                                   'Massachusetts Institute of Technology','Embark','Pioneer Fund',\n",
    "                                  'LinkedIn','Intel','Deloitte','Palantir','Morgan Stanley','Oracle','Dropbox','Uber','Etsy']"
   ]
  },
  {
   "cell_type": "code",
   "execution_count": null,
   "id": "e05a31e2",
   "metadata": {},
   "outputs": [],
   "source": []
  },
  {
   "cell_type": "code",
   "execution_count": null,
   "id": "004f829b",
   "metadata": {},
   "outputs": [],
   "source": []
  },
  {
   "cell_type": "code",
   "execution_count": null,
   "id": "e92c0f6d",
   "metadata": {},
   "outputs": [],
   "source": []
  },
  {
   "cell_type": "code",
   "execution_count": null,
   "id": "51effe38",
   "metadata": {},
   "outputs": [],
   "source": []
  },
  {
   "cell_type": "code",
   "execution_count": null,
   "id": "e03b1dbc",
   "metadata": {},
   "outputs": [],
   "source": []
  }
 ],
 "metadata": {
  "kernelspec": {
   "display_name": "Python 3 (ipykernel)",
   "language": "python",
   "name": "python3"
  },
  "language_info": {
   "codemirror_mode": {
    "name": "ipython",
    "version": 3
   },
   "file_extension": ".py",
   "mimetype": "text/x-python",
   "name": "python",
   "nbconvert_exporter": "python",
   "pygments_lexer": "ipython3",
   "version": "3.9.12"
  }
 },
 "nbformat": 4,
 "nbformat_minor": 5
}
