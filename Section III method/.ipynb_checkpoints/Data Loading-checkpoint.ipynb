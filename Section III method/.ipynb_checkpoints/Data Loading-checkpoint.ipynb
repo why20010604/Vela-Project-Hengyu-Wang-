{
 "cells": [
  {
   "cell_type": "markdown",
   "id": "56adb053",
   "metadata": {},
   "source": [
    "# Data Loading\n",
    "\n",
    "### Load all the spreadsheets of companies associated with successful, brand and failed investors."
   ]
  },
  {
   "cell_type": "code",
   "execution_count": 1,
   "id": "09a79b37",
   "metadata": {},
   "outputs": [],
   "source": [
    "#Import all the libraries\n",
    "%matplotlib inline\n",
    "import matplotlib.pyplot as plt\n",
    "import pandas as pd\n",
    "import numpy as np\n",
    "from functools import reduce\n",
    "import math\n",
    "import urllib\n",
    "import difflib \n",
    "import seaborn as sns\n",
    "import sklearn.model_selection\n",
    "from tensorflow.keras.models import Sequential\n",
    "from tensorflow.keras.layers import Dense\n",
    "from sklearn.model_selection import cross_val_score"
   ]
  },
  {
   "cell_type": "markdown",
   "id": "d55bc313",
   "metadata": {},
   "source": [
    "We perform the following steps:\n",
    "1. Get the names of all sheets in each workbook\n",
    "2. Load each sheet into a dataframe\n",
    "3. Join all of the dataframes together"
   ]
  },
  {
   "cell_type": "code",
   "execution_count": 2,
   "id": "5a1e34f4",
   "metadata": {},
   "outputs": [],
   "source": [
    "'''\n",
    "First we load boath spreadsheets and extra all the names of the workbooks\n",
    "'''\n",
    "\n",
    "xls_Successful_Investors= pd.ExcelFile('Data/Proxy, successful investor.xlsx')\n",
    "xls_Successful_Investors_Sheet_Names = xls_Successful_Investors.sheet_names\n",
    "\n",
    "\n",
    "\n",
    "xls_brand_Investors= pd.ExcelFile('Data/Proxy, brand investor.xlsx')\n",
    "xls_brand_Investors_Sheet_Names = xls_brand_Investors.sheet_names\n",
    "\n",
    "\n",
    "\n",
    "xls_failed_Investors= pd.ExcelFile('Data/Proxy, failed investor.xlsx')\n",
    "xls_failed_Investors_Sheet_Names = xls_failed_Investors.sheet_names\n",
    "\n",
    "\n",
    "\n",
    "\n",
    "'''\n",
    "Importing all of the excel sheets of successful informaiton\n",
    "'''\n",
    "df_SuccessfulInvestors = [pd.read_excel (r'Data/Proxy, successful investor.xlsx',\n",
    "                                         sheet_name= sheetname) for sheetname in xls_Successful_Investors_Sheet_Names]\n",
    "\n",
    "'''\n",
    "Importing all of the excel sheets of unsuccessful informaiton\n",
    "\n",
    "'''\n",
    "df_BrandInvestors = [pd.read_excel (r'Data/Proxy, brand investor.xlsx',\n",
    "                                         sheet_name= sheetname) for sheetname in xls_brand_Investors_Sheet_Names]\n",
    "\n",
    "\n",
    "'''\n",
    "Importing all of the excel sheets of successful informaiton\n",
    "'''\n",
    "df_FailedInvestors = [pd.read_excel (r'Data/Proxy, failed investor.xlsx',\n",
    "                                         sheet_name= sheetname) for sheetname in xls_failed_Investors_Sheet_Names]\n",
    "\n",
    "\n",
    "\n",
    "\n",
    "\n",
    "'''Merging all of the successful data into one dataframe and creating a column called \"success_flag\" \n",
    "which will denote if the company is invested by a successful investor or not '''\n",
    "df_SuccessfulInvestor_merged = reduce(lambda  left,right: pd.merge(left,right,on=['name'],how='outer'),\n",
    "                                       df_SuccessfulInvestors)\n",
    "df_SuccessfulInvestor_merged['success_flag']  = 1\n",
    "\n",
    "'''Merging all of the brand data into one dataframe and creating a column called \"brand_flag\" \n",
    "which will denote if the company is invested a brand investor. '''\n",
    "\n",
    "\n",
    "df_BrandInvestors_merged = reduce(lambda  left,right: pd.merge(left,right,on=['name'],how='outer'),\n",
    "                                      df_BrandInvestors)\n",
    "df_BrandInvestors_merged['success_flag']  = 0\n",
    "\n",
    "\n",
    "'''Merging all of the brand data into one dataframe and creating a column called \"brand_flag\" \n",
    "which will denote if the company is invested a brand investor. '''\n",
    "\n",
    "\n",
    "df_FailedInvestors_merged = reduce(lambda  left,right: pd.merge(left,right,on=['name'],how='outer'),\n",
    "                                      df_FailedInvestors)\n",
    "df_FailedInvestors_merged['success_flag']  = 0\n",
    "\n",
    "\n",
    "\n",
    "\n",
    "\n",
    "\n",
    "'''Merge the all data into one datafram'''\n",
    "df_All_Companies_merged = pd.concat([df_SuccessfulInvestor_merged, df_FailedInvestors_merged], ignore_index=True, sort=False)"
   ]
  },
  {
   "cell_type": "code",
   "execution_count": 3,
   "id": "9790a3bc",
   "metadata": {},
   "outputs": [],
   "source": [
    "'''Now we will save the dataframe for easier future access\n",
    "\n",
    "REMEMBER TO CHANGE THE FLAG WHEN APPROPIATE\n",
    "'''\n",
    "\n",
    "\n",
    "save_datafram_flag  = True\n",
    "if save_datafram_flag: df_All_Companies_merged.to_pickle(r'Data\\df_All_Companies_merged.pkl')\n",
    "if save_datafram_flag: df_SuccessfulInvestor_merged.to_pickle(r'Data\\df_SuccessfulInvestor_merged.pkl')"
   ]
  },
  {
   "cell_type": "code",
   "execution_count": 4,
   "id": "c283e1ee",
   "metadata": {},
   "outputs": [],
   "source": [
    "import pandas as pd\n",
    " \n",
    "# Passing the TSV file to\n",
    "# read_csv() function\n",
    "# with tab separator\n",
    "# This function will\n",
    "# read data from file\n",
    "X = pd.read_csv('Data/spam_train.tsv', sep='\\t')"
   ]
  },
  {
   "cell_type": "code",
   "execution_count": 5,
   "id": "6cfb1620",
   "metadata": {},
   "outputs": [],
   "source": [
    "X = pd.DataFrame(X).to_numpy()"
   ]
  },
  {
   "cell_type": "code",
   "execution_count": null,
   "id": "f1543555",
   "metadata": {},
   "outputs": [],
   "source": []
  }
 ],
 "metadata": {
  "kernelspec": {
   "display_name": "cs224n",
   "language": "python",
   "name": "cs224n"
  },
  "language_info": {
   "codemirror_mode": {
    "name": "ipython",
    "version": 3
   },
   "file_extension": ".py",
   "mimetype": "text/x-python",
   "name": "python",
   "nbconvert_exporter": "python",
   "pygments_lexer": "ipython3",
   "version": "3.9.12"
  }
 },
 "nbformat": 4,
 "nbformat_minor": 5
}
